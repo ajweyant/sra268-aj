{
  "nbformat": 4,
  "nbformat_minor": 0,
  "metadata": {
    "colab": {
      "name": "Untitled1.ipynb",
      "provenance": [],
      "authorship_tag": "ABX9TyMzJnajESEs/z0+Bq3FlyJd",
      "include_colab_link": true
    },
    "kernelspec": {
      "name": "python3",
      "display_name": "Python 3"
    }
  },
  "cells": [
    {
      "cell_type": "markdown",
      "metadata": {
        "id": "view-in-github",
        "colab_type": "text"
      },
      "source": [
        "<a href=\"https://colab.research.google.com/github/ajweyant/sra268-aj/blob/master/SRA268Lab1.ipynb\" target=\"_parent\"><img src=\"https://colab.research.google.com/assets/colab-badge.svg\" alt=\"Open In Colab\"/></a>"
      ]
    },
    {
      "cell_type": "markdown",
      "metadata": {
        "id": "RUgq9Mq-VFcW",
        "colab_type": "text"
      },
      "source": [
        "\n",
        "\n",
        "###Preciptiation 2017\n",
        "\n"
      ]
    },
    {
      "cell_type": "markdown",
      "metadata": {
        "id": "oiJEW9S0VRuq",
        "colab_type": "text"
      },
      "source": [
        "###Outline\n",
        "I am going to be looking at the average amount of precipiation in the first week of January 2017 versus the average amount of precipitation in the first week of April 2017. April is usually the month that has the most precipitation, but January is known for the amount of snow that falls during the month. The two weeks could be very similar or different based off my prior knowledge, but I think April will have more precipitation. "
      ]
    },
    {
      "cell_type": "markdown",
      "metadata": {
        "id": "_GRiNpC-VyAV",
        "colab_type": "text"
      },
      "source": [
        "###Sketch\n",
        "![alt text](https://raw.githubusercontent.com/ajweyant/image2/master/images/graph2.jpg)\n"
      ]
    },
    {
      "cell_type": "markdown",
      "metadata": {
        "id": "uYOuV4PJV11c",
        "colab_type": "text"
      },
      "source": [
        "###Conclusion\n",
        "\n",
        "In conclusion, I found that the precipitation levels for the first week of April in 2017 were much higher than the first week of January in 2017. The average precipitation for January was 0.074 inches, while the average for April was 0.29 inches. My prediction was correct in that April will have a higher average precipitation. \n"
      ]
    }
  ]
}