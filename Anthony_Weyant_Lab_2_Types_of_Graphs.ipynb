{
  "nbformat": 4,
  "nbformat_minor": 0,
  "metadata": {
    "colab": {
      "name": "Anthony Weyant Lab 2 Types of Graphs",
      "provenance": [],
      "include_colab_link": true
    },
    "kernelspec": {
      "name": "python3",
      "display_name": "Python 3"
    }
  },
  "cells": [
    {
      "cell_type": "markdown",
      "metadata": {
        "id": "view-in-github",
        "colab_type": "text"
      },
      "source": [
        "<a href=\"https://colab.research.google.com/github/ajweyant/sra268-aj/blob/master/Anthony_Weyant_Lab_2_Types_of_Graphs.ipynb\" target=\"_parent\"><img src=\"https://colab.research.google.com/assets/colab-badge.svg\" alt=\"Open In Colab\"/></a>"
      ]
    },
    {
      "cell_type": "markdown",
      "metadata": {
        "id": "6sOc4Uyr4U-Z",
        "colab_type": "text"
      },
      "source": [
        "## Graph Types"
      ]
    },
    {
      "cell_type": "markdown",
      "metadata": {
        "id": "0zZdVLAd5CYr",
        "colab_type": "text"
      },
      "source": [
        "Creator\n",
        "* Anthony Weyant"
      ]
    },
    {
      "cell_type": "markdown",
      "metadata": {
        "id": "g-r6Clq45Hn4",
        "colab_type": "text"
      },
      "source": [
        "### Deviation\n"
      ]
    },
    {
      "cell_type": "markdown",
      "metadata": {
        "id": "2gorxo6E7A0t",
        "colab_type": "text"
      },
      "source": [
        "![alt text](https://raw.githubusercontent.com/ajweyant/sra268-aj/master/images/deviation.PNG)"
      ]
    },
    {
      "cell_type": "markdown",
      "metadata": {
        "id": "w6bZ_NEi7E3w",
        "colab_type": "text"
      },
      "source": [
        "#### What is this telling us?"
      ]
    },
    {
      "cell_type": "markdown",
      "metadata": {
        "id": "95L-spaC7QHF",
        "colab_type": "text"
      },
      "source": [
        "The above graph is a deviation graph. Deviation graphs emphase variation using a fixed point. In this case, the fixed point is the average amount of points, represented by the bar. I used colors to represent years that were above the average and below the average. \n",
        "\n",
        "The blue bars are years above the average. As the blue bars get darker, this means a higher amount of points. As the red bars get darker, this means a lower amount of points. The highest year seems to be around 1989, while the lowest seems to be around 1999. This is interesting because I would think as time goes on, players get better than previous generations and they would score more. "
      ]
    },
    {
      "cell_type": "markdown",
      "metadata": {
        "id": "YgXyXjmz7cDP",
        "colab_type": "text"
      },
      "source": [
        "### Correlation\n"
      ]
    },
    {
      "cell_type": "markdown",
      "metadata": {
        "id": "SGx15rZq7hvt",
        "colab_type": "text"
      },
      "source": [
        "![alt text](https://raw.githubusercontent.com/ajweyant/sra268-aj/master/images/correlation.PNG)"
      ]
    },
    {
      "cell_type": "markdown",
      "metadata": {
        "id": "dljjONNi7jmj",
        "colab_type": "text"
      },
      "source": [
        "#### What is this telling us?"
      ]
    },
    {
      "cell_type": "markdown",
      "metadata": {
        "id": "PwZEZrFB7laG",
        "colab_type": "text"
      },
      "source": [
        "The above graph is a correlation graph. Correlation graphs show relationships between two or more points. This specific graph is a scatterplot. The red dots are win points, while the blue dots are lose points. It is expected that win points will be higher, which holds true. It is clear that the highest amount of win and lose points occured around 1989, which was shown in the deviation graph as well. \n",
        "\n",
        "Scatterplots show relationships between two continuous variables, which would be the year and the points in this case. They are a good way to show change over time in data. "
      ]
    },
    {
      "cell_type": "markdown",
      "metadata": {
        "id": "MqUdI-uL7r2s",
        "colab_type": "text"
      },
      "source": [
        "### Ranking\n"
      ]
    },
    {
      "cell_type": "markdown",
      "metadata": {
        "id": "AvlxCOVt7x9F",
        "colab_type": "text"
      },
      "source": [
        "![alt text](https://raw.githubusercontent.com/ajweyant/sra268-aj/master/images/ranking.PNG)"
      ]
    },
    {
      "cell_type": "markdown",
      "metadata": {
        "id": "lCAYtfza7yTq",
        "colab_type": "text"
      },
      "source": [
        "#### What is this telling us?"
      ]
    },
    {
      "cell_type": "markdown",
      "metadata": {
        "id": "MyuciD277ygU",
        "colab_type": "text"
      },
      "source": [
        "The above graph is a ranking graph. Ranking graphs highlight the positioning of the data relative to one another. The specific type of ranking bar that I chose to do is an ordered column graph. Looking at the x-axis, you can tell that this graph is not in chronological order. The graph goes in an order of lowest to highest amount of points. \n",
        "\n",
        "The graph shows that 1988 had the highest amount of points, and that 1984 had the lowest amount of points. The amount of points seemed to stay in the 4000-5000 range throughout the entire set of data. "
      ]
    },
    {
      "cell_type": "markdown",
      "metadata": {
        "id": "dGDGl8-G7y8Y",
        "colab_type": "text"
      },
      "source": [
        "### Distribution\n"
      ]
    },
    {
      "cell_type": "markdown",
      "metadata": {
        "id": "FB0uV-jy76p9",
        "colab_type": "text"
      },
      "source": [
        "![alt text](https://raw.githubusercontent.com/ajweyant/sra268-aj/master/images/distribution.PNG)"
      ]
    },
    {
      "cell_type": "markdown",
      "metadata": {
        "id": "_6SOzhrQ76zH",
        "colab_type": "text"
      },
      "source": [
        "#### What is this telling us?"
      ]
    },
    {
      "cell_type": "markdown",
      "metadata": {
        "id": "HBWqsS_g767h",
        "colab_type": "text"
      },
      "source": [
        "The above graph is a distribution graph. Distribution graphs show the values of the dataset and how often those values occur. Skewness is an element you have to consider in these graphs. The specific type of graph I used is a histogram. This histogram is symmetric and bell curved. Histograms can also be right skewed and left skewed, meaning that the bulk of the data either leans to the left or right. \n",
        "\n",
        "The mean amount of points is 75, which is shown by the middle/tall bar. The highest amount of points was 125 and the lowest seemed to be 45."
      ]
    },
    {
      "cell_type": "markdown",
      "metadata": {
        "id": "wQsDThk677Fy",
        "colab_type": "text"
      },
      "source": [
        "### Change over Time\n"
      ]
    },
    {
      "cell_type": "markdown",
      "metadata": {
        "id": "Z1j_YLOA7_OK",
        "colab_type": "text"
      },
      "source": [
        "![alt text](https://raw.githubusercontent.com/ajweyant/sra268-aj/master/images/change%20over%20time.PNG)"
      ]
    },
    {
      "cell_type": "markdown",
      "metadata": {
        "id": "mpfsmmgi7_Vj",
        "colab_type": "text"
      },
      "source": [
        "#### What is this telling us?"
      ]
    },
    {
      "cell_type": "markdown",
      "metadata": {
        "id": "rYLXoMMO7_di",
        "colab_type": "text"
      },
      "source": [
        "The above graph is a change over time graph. Change over time graphs show the trend of the data. The specific type of change over time graph I used is a line graph. Line graphs are one of the most standard ways to show change over time. I used a red/blue diverging color to show the highs and lows of win points over time. The darker blue color means higher amount of points, while the darker red shows the lower amount of points.\n",
        "\n",
        "1989 still shows to be the year with the highest amount of points, just like I pointed out in other graphs. The low still is at around 1999. I would think that the high increase from 1987 to around 1990 is when the 3 point line was becoming really popular, increasing amount of points in a game. "
      ]
    },
    {
      "cell_type": "markdown",
      "metadata": {
        "id": "lFwiHoE-7_jZ",
        "colab_type": "text"
      },
      "source": [
        "### Magnitude\n"
      ]
    },
    {
      "cell_type": "markdown",
      "metadata": {
        "id": "ICQFnXj78EbF",
        "colab_type": "text"
      },
      "source": [
        "![alt text](https://raw.githubusercontent.com/ajweyant/sra268-aj/master/images/magnitude.PNG)"
      ]
    },
    {
      "cell_type": "markdown",
      "metadata": {
        "id": "QGG7XYG88Eii",
        "colab_type": "text"
      },
      "source": [
        "#### What is this telling us?"
      ]
    },
    {
      "cell_type": "markdown",
      "metadata": {
        "id": "VS7uGa0l8Eos",
        "colab_type": "text"
      },
      "source": [
        "The above graph is a magnitude graph. Magnitude graphs show comparisons of the dataset. The specific type of magnitude graph I chose to use is a column graph. This column graph is shown in a green color. The darker green colors represent a higher amount of points scored, while the lighter green colors represent a lower amount of points scored. \n",
        "\n",
        "Unlike the ranking graph, this graph is in chronological order. This is very similar to the line graph, showing the changes in amount of points as the years go on. It is clear that 1989 is again the highest amount of points. "
      ]
    },
    {
      "cell_type": "markdown",
      "metadata": {
        "id": "bEKFxP8R8Evk",
        "colab_type": "text"
      },
      "source": [
        "### Part-to-Whole\n"
      ]
    },
    {
      "cell_type": "markdown",
      "metadata": {
        "id": "WFHlcYKV8E35",
        "colab_type": "text"
      },
      "source": [
        "![alt text](https://raw.githubusercontent.com/ajweyant/sra268-aj/master/images/part%20to%20whole.PNG)"
      ]
    },
    {
      "cell_type": "markdown",
      "metadata": {
        "id": "PNSd3wlp8UZH",
        "colab_type": "text"
      },
      "source": [
        "#### What is this telling us?"
      ]
    },
    {
      "cell_type": "markdown",
      "metadata": {
        "id": "y9tb_QRA8aqt",
        "colab_type": "text"
      },
      "source": [
        "The above graph is a part to whole graph. Part to whole graphs show individual entities in the data, as they relate to all other single entities. The specific graph I went with is a pie chart. Pie charts are very popular graphs because they are easy to read with even distributions of data. The data used in this graph is the days of the week, and the amount of points scored on those days.\n",
        "\n",
        "It makes sense that most points were scored Thursday through Sunday, because most games are played on the weekend. The lower amount of points were scored on weekdays, which is when the beginning rounds of the tournament are held. "
      ]
    }
  ]
}